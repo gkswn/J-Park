{
 "cells": [
  {
   "cell_type": "code",
   "execution_count": 3,
   "metadata": {},
   "outputs": [],
   "source": [
    "import requests\n",
    "import pprint\n",
    "\n",
    "encoding='key'\n",
    "deconding='key'\n",
    "\n",
    "url = 'http://openapi.jeonju.go.kr/rest/parking/getParkingList'\n",
    "params ={'serviceKey' : encoding,\n",
    " 'authApiKey' : '', \n",
    " 'dataValue' : '풍남동 또는 풍남', \n",
    " 'parkingFee' : '유료/무료/혼합', \n",
    " 'parkingSize' : '10', \n",
    " 'startPage' : '1', \n",
    " 'pageSize' : '10' }\n",
    "\n",
    "response = requests.get(url, params=params)\n",
    "content = response.text\n",
    "\n",
    "pp=pprint.PrettyPrinter(indent=4)"
   ]
  },
  {
   "cell_type": "code",
   "execution_count": 4,
   "metadata": {},
   "outputs": [
    {
     "name": "stdout",
     "output_type": "stream",
     "text": [
      "[]\n"
     ]
    }
   ],
   "source": [
    "### xml을 DataFrame으로 변환하기 ###\n",
    "from os import name\n",
    "import xml.etree.ElementTree as et\n",
    "import pandas as pd\n",
    "import bs4\n",
    "from lxml import html\n",
    "from urllib.parse import urlencode, quote_plus, unquote\n",
    "\n",
    "## 각 컬럼 값 ## (포털 문서에서 꼭 확인하세요)\n",
    "\"\"\"\n",
    "평일운영시작시각\tparkingStime1\t20\t0\t0:00\t평일운영시작시각\n",
    "평일운영종료시각\tparkingEtime1\t20\t0\t0:00:00\t평일운영종료시각\n",
    "토요일운영시작시각\tparkingStime2\t20\t0\t0:00\t토요일운영시작시각\n",
    "토요일운영종료시각\tparkingEtime2\t20\t0\t0:00:00\t토요일운영종료시각\n",
    "공휴일운영시작시각\tparkingStime3\t20\t0\t0:00\t공휴일운영시작시각\n",
    "공휴일운영종료시각\tparkingEtime3\t20\t0\t0:00:00\t공휴일운영종료시각\n",
    "주차기본시간\tparkingDtime\t50\t0\t30\t주차기본시간\n",
    "주차기본요금\tparkingDfee\t20\t0\t2,000\t주차기본요금\n",
    "추가단위시간\tparkingUtime\t20\t0\t15\t추가단위시간\n",
    "추가단위요금\tparkingUfee\t20\t0\t500\t추가단위요금\n",
    "1일주차권요금적용시간\tparkingDaytime\t50\t0\t360\t1일주차권요금적용시간\n",
    "1일주차권요금\tparkingDayfee\t50\t0\t12,000\t1일주차권요금\n",
    "월정기권요금\tparkingMonfee\t50\t0\t\t월정기권요금\n",
    "결제방법\tparkingPay\t50\t0\t현금, 신용카드\t결제방법\n",
    "특기사항\tparkingMemo\t1000\t0\t경차, 장애인, 저공해, 다자녀, 전주시 장기기증 등록증, 전주시 의사상자 증서, 전주시 병역명문가증 50%할인 / 전주시장 소유의 업무용 차량, 민원인차량중 1시간이내에 해당되는 주차시간, 국세청장이 발급한 성실납세증 표지부착차량(단1년간), 전주시민의장 증명서 소지차량, 공무수행중인 차량, 전주시.완주군 자원봉사자증을 소지한차량(마일리지차감), 한옥마을에 주소를 둔 1가구 2차량에 한해서 주민이 공영주차장을 이용하는경우 전액무료 / 국가보훈대상자 면제(1일3시간이내,초과분 50%경감), 걷고싶은거리 구역내 상가이용 및 영화의 거리내 극장이용 차량 50%(단3시간이내)/\t특기사항\n",
    "주차장전화번호\tparkingTel\t50\t0\t063-239-2665\t주차장전화번호\n",
    "관리기관명\tparkingOrgnm\t100\t0\t전주시 전주시설관리공단\t관리기관명\n",
    "데이터기준일자\tprkingRegdate\t30\t0\t30/09/2015\t데이터기준일자\n",
    "경도\tposx\t3,7\t1\t127.154\t경도\n",
    "위도\tposy\t2,7\t1\t35.822\t위도\n",
    "결과코드\tresultCode\t2\t1\t00\t결과코드\n",
    "결과메세지\tresultMsg\t50\t1\tsuccess\t결과메세지\n",
    "쿼리 페이지 시작점\tpageIndex\t5\t1\t10\t쿼리페이지 시작점\n",
    "페이지 크기\tpageSize\t5\t1\t1\t페이지 크기\n",
    "시작 페이지\tstartPage\t5\t1\t1\t시작 페이지\n",
    "전체 결과 수\ttotalCount\t5\t1\t10\t전체 결과 수\n",
    "데이터번호\tdataSid\t6\t1\t13\t데이터번호\n",
    "주차장명\tdataTitle\t50\t1\t한옥마을2\t주차장명\n",
    "요금정보\tparkingFee\t300\t1\t유료\t요금정보\n",
    "소재지지번주소\tparkingAddr\t100\t1\t전주시 완산구 풍남동2가 44-1\t소재지지번주소\n",
    "주차구획수\tparkingCapacity\t50\t1\t175\t주차구획수\n",
    "주차장관리번호\tparkingNo\t50\t0\t100-3-00013\t주차장관리번호\n",
    "주차장구분\tparkingGubun\t50\t0\t공영\t주차장구분\n",
    "주차장유형\tparkingType\t50\t0\t부설\t주차장유형\n",
    "소재지도로명주소\tparkingLoadAddr\t100\t0\t전주시 완산구 어진길 30-10\t소재지도로명주소\n",
    "급지구분\tparkingGukgi\t100\t0\t교통혼잡\t급지구분\n",
    "부제시행구분\tparkingBuge\t100\t0\t미시행\t부제시행구분\n",
    "운영요일\tparkingDay\t100\t0\t평일+토요일+공휴일\t운영요일\n",
    "\n",
    "\"\"\" \n",
    "\n",
    "#bs4 사용하여 list 태그 분리\n",
    "\n",
    "xml_obj = bs4.BeautifulSoup(content,'lxml-xml')\n",
    "rows = xml_obj.findAll('list')\n",
    "print(rows)"
   ]
  },
  {
   "cell_type": "code",
   "execution_count": null,
   "metadata": {},
   "outputs": [],
   "source": []
  }
 ],
 "metadata": {
  "kernelspec": {
   "display_name": "Python 3.7.4 ('base')",
   "language": "python",
   "name": "python3"
  },
  "language_info": {
   "codemirror_mode": {
    "name": "ipython",
    "version": 3
   },
   "file_extension": ".py",
   "mimetype": "text/x-python",
   "name": "python",
   "nbconvert_exporter": "python",
   "pygments_lexer": "ipython3",
   "version": "3.7.4"
  },
  "orig_nbformat": 4,
  "vscode": {
   "interpreter": {
    "hash": "e4cce46d6be9934fbd27f9ca0432556941ea5bdf741d4f4d64c6cd7f8dfa8fba"
   }
  }
 },
 "nbformat": 4,
 "nbformat_minor": 2
}
