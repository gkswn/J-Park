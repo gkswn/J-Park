{
 "cells": [
  {
   "cell_type": "code",
   "execution_count": 7,
   "metadata": {},
   "outputs": [],
   "source": [
    "import pandas as pd\n",
    "import numpy as np"
   ]
  },
  {
   "cell_type": "code",
   "execution_count": 8,
   "metadata": {},
   "outputs": [],
   "source": [
    "df = pd.read_csv(\"C:\\\\Users\\안한주\\\\Desktop\\\\전주빅데\\\\전라북도 전주시_불법주정차 단속현황_20220630.csv\",encoding='cp949')"
   ]
  },
  {
   "cell_type": "code",
   "execution_count": 9,
   "metadata": {},
   "outputs": [
    {
     "data": {
      "text/html": [
       "<div>\n",
       "<style scoped>\n",
       "    .dataframe tbody tr th:only-of-type {\n",
       "        vertical-align: middle;\n",
       "    }\n",
       "\n",
       "    .dataframe tbody tr th {\n",
       "        vertical-align: top;\n",
       "    }\n",
       "\n",
       "    .dataframe thead th {\n",
       "        text-align: right;\n",
       "    }\n",
       "</style>\n",
       "<table border=\"1\" class=\"dataframe\">\n",
       "  <thead>\n",
       "    <tr style=\"text-align: right;\">\n",
       "      <th></th>\n",
       "      <th>구청구분</th>\n",
       "      <th>단속일자</th>\n",
       "      <th>단속시간</th>\n",
       "      <th>단속장소명</th>\n",
       "      <th>단속구분</th>\n",
       "      <th>데이터기준일자</th>\n",
       "    </tr>\n",
       "  </thead>\n",
       "  <tbody>\n",
       "    <tr>\n",
       "      <td>0</td>\n",
       "      <td>덕진구</td>\n",
       "      <td>2022-01-01</td>\n",
       "      <td>07:04</td>\n",
       "      <td>에코시티 데시앙12블럭</td>\n",
       "      <td>고정식CCTV</td>\n",
       "      <td>2022-06-30</td>\n",
       "    </tr>\n",
       "    <tr>\n",
       "      <td>1</td>\n",
       "      <td>덕진구</td>\n",
       "      <td>2022-01-01</td>\n",
       "      <td>07:11</td>\n",
       "      <td>마중길 원예농협</td>\n",
       "      <td>고정식CCTV</td>\n",
       "      <td>2022-06-30</td>\n",
       "    </tr>\n",
       "    <tr>\n",
       "      <td>2</td>\n",
       "      <td>덕진구</td>\n",
       "      <td>2022-01-01</td>\n",
       "      <td>07:12</td>\n",
       "      <td>호성동 다이소 옆</td>\n",
       "      <td>고정식CCTV</td>\n",
       "      <td>2022-06-30</td>\n",
       "    </tr>\n",
       "    <tr>\n",
       "      <td>3</td>\n",
       "      <td>덕진구</td>\n",
       "      <td>2022-01-01</td>\n",
       "      <td>07:13</td>\n",
       "      <td>고랑동노블레스더센텀</td>\n",
       "      <td>고정식CCTV</td>\n",
       "      <td>2022-06-30</td>\n",
       "    </tr>\n",
       "    <tr>\n",
       "      <td>4</td>\n",
       "      <td>덕진구</td>\n",
       "      <td>2022-01-01</td>\n",
       "      <td>07:16</td>\n",
       "      <td>호성동 다이소 옆</td>\n",
       "      <td>고정식CCTV</td>\n",
       "      <td>2022-06-30</td>\n",
       "    </tr>\n",
       "  </tbody>\n",
       "</table>\n",
       "</div>"
      ],
      "text/plain": [
       "  구청구분        단속일자   단속시간         단속장소명     단속구분     데이터기준일자\n",
       "0  덕진구  2022-01-01  07:04  에코시티 데시앙12블럭  고정식CCTV  2022-06-30\n",
       "1  덕진구  2022-01-01  07:11      마중길 원예농협  고정식CCTV  2022-06-30\n",
       "2  덕진구  2022-01-01  07:12     호성동 다이소 옆  고정식CCTV  2022-06-30\n",
       "3  덕진구  2022-01-01  07:13    고랑동노블레스더센텀  고정식CCTV  2022-06-30\n",
       "4  덕진구  2022-01-01  07:16     호성동 다이소 옆  고정식CCTV  2022-06-30"
      ]
     },
     "execution_count": 9,
     "metadata": {},
     "output_type": "execute_result"
    }
   ],
   "source": [
    "df.head()"
   ]
  },
  {
   "cell_type": "code",
   "execution_count": 10,
   "metadata": {},
   "outputs": [
    {
     "data": {
      "text/plain": [
       "count          86743\n",
       "unique          7247\n",
       "top       서노송동 노송광장로\n",
       "freq            1625\n",
       "Name: 단속장소명, dtype: object"
      ]
     },
     "execution_count": 10,
     "metadata": {},
     "output_type": "execute_result"
    }
   ],
   "source": [
    "df['단속장소명'].describe()"
   ]
  },
  {
   "cell_type": "code",
   "execution_count": null,
   "metadata": {},
   "outputs": [],
   "source": []
  }
 ],
 "metadata": {
  "kernelspec": {
   "display_name": "Python 3.7.4 ('base')",
   "language": "python",
   "name": "python3"
  },
  "language_info": {
   "codemirror_mode": {
    "name": "ipython",
    "version": 3
   },
   "file_extension": ".py",
   "mimetype": "text/x-python",
   "name": "python",
   "nbconvert_exporter": "python",
   "pygments_lexer": "ipython3",
   "version": "3.7.4"
  },
  "orig_nbformat": 4,
  "vscode": {
   "interpreter": {
    "hash": "e4cce46d6be9934fbd27f9ca0432556941ea5bdf741d4f4d64c6cd7f8dfa8fba"
   }
  }
 },
 "nbformat": 4,
 "nbformat_minor": 2
}
