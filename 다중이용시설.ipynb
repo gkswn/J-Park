{
 "cells": [
  {
   "cell_type": "code",
   "execution_count": 8,
   "metadata": {},
   "outputs": [],
   "source": [
    "import pandas as pd\n",
    "import numpy as np\n",
    "pd.set_option('display.max_columns',None)\n",
    "pd.set_option('display.max_rows',None)"
   ]
  },
  {
   "cell_type": "code",
   "execution_count": 9,
   "metadata": {},
   "outputs": [],
   "source": [
    "df = pd.read_csv(\"C:\\\\Users\\\\안한주\\\\Desktop\\\\전주빅데\\\\전라북도 전주시_다중이용시설_20210726.csv\",encoding='cp949')"
   ]
  },
  {
   "cell_type": "code",
   "execution_count": 10,
   "metadata": {},
   "outputs": [
    {
     "data": {
      "text/html": [
       "<div>\n",
       "<style scoped>\n",
       "    .dataframe tbody tr th:only-of-type {\n",
       "        vertical-align: middle;\n",
       "    }\n",
       "\n",
       "    .dataframe tbody tr th {\n",
       "        vertical-align: top;\n",
       "    }\n",
       "\n",
       "    .dataframe thead th {\n",
       "        text-align: right;\n",
       "    }\n",
       "</style>\n",
       "<table border=\"1\" class=\"dataframe\">\n",
       "  <thead>\n",
       "    <tr style=\"text-align: right;\">\n",
       "      <th></th>\n",
       "      <th>시도</th>\n",
       "      <th>시군구</th>\n",
       "      <th>시설명</th>\n",
       "      <th>시설연락처</th>\n",
       "      <th>주용도</th>\n",
       "      <th>연면적(제곱미터)</th>\n",
       "      <th>소재지</th>\n",
       "      <th>매뉴얼작성여부</th>\n",
       "      <th>매뉴얼종류</th>\n",
       "      <th>구분</th>\n",
       "      <th>데이터기준일</th>\n",
       "    </tr>\n",
       "  </thead>\n",
       "  <tbody>\n",
       "    <tr>\n",
       "      <td>0</td>\n",
       "      <td>전라북도</td>\n",
       "      <td>전주시</td>\n",
       "      <td>예수병원</td>\n",
       "      <td>063-230-8580</td>\n",
       "      <td>의료시설</td>\n",
       "      <td>39117</td>\n",
       "      <td>서원로 365</td>\n",
       "      <td>O</td>\n",
       "      <td>소방계획서, 다중이용시설 위기상황 매뉴얼</td>\n",
       "      <td>기존</td>\n",
       "      <td>2021-07-26</td>\n",
       "    </tr>\n",
       "    <tr>\n",
       "      <td>1</td>\n",
       "      <td>전라북도</td>\n",
       "      <td>전주시</td>\n",
       "      <td>대자인병원</td>\n",
       "      <td>063-240-2976</td>\n",
       "      <td>의료시설</td>\n",
       "      <td>19500</td>\n",
       "      <td>견훤로 390</td>\n",
       "      <td>O</td>\n",
       "      <td>소방계획서, 다중이용시설 위기상황메뉴얼</td>\n",
       "      <td>기존</td>\n",
       "      <td>2021-07-26</td>\n",
       "    </tr>\n",
       "    <tr>\n",
       "      <td>2</td>\n",
       "      <td>전라북도</td>\n",
       "      <td>전주시</td>\n",
       "      <td>전주병원</td>\n",
       "      <td>063-220-7205</td>\n",
       "      <td>의료시설</td>\n",
       "      <td>3159</td>\n",
       "      <td>한두평3길 13</td>\n",
       "      <td>O</td>\n",
       "      <td>소방계획서, 다중이용시설 위기상황메뉴얼</td>\n",
       "      <td>기존</td>\n",
       "      <td>2021-07-26</td>\n",
       "    </tr>\n",
       "    <tr>\n",
       "      <td>3</td>\n",
       "      <td>전라북도</td>\n",
       "      <td>전주시</td>\n",
       "      <td>전주고려병원</td>\n",
       "      <td>063-240-7300</td>\n",
       "      <td>의료시설</td>\n",
       "      <td>9837</td>\n",
       "      <td>안덕원로 367</td>\n",
       "      <td>O</td>\n",
       "      <td>소방계획서, 다중이용시설 위기상황 매뉴얼</td>\n",
       "      <td>기존</td>\n",
       "      <td>2021-07-26</td>\n",
       "    </tr>\n",
       "    <tr>\n",
       "      <td>4</td>\n",
       "      <td>전라북도</td>\n",
       "      <td>전주시</td>\n",
       "      <td>NC웨이브전주점</td>\n",
       "      <td>NaN</td>\n",
       "      <td>판매및영업시설</td>\n",
       "      <td>8187</td>\n",
       "      <td>전주시 완산구 전주객사4길 24-47 (전주시 완산구 고사동 105)</td>\n",
       "      <td>O</td>\n",
       "      <td>다중이용시설 위기상황 매뉴얼</td>\n",
       "      <td>기존</td>\n",
       "      <td>2021-07-26</td>\n",
       "    </tr>\n",
       "  </tbody>\n",
       "</table>\n",
       "</div>"
      ],
      "text/plain": [
       "     시도  시군구       시설명         시설연락처      주용도  연면적(제곱미터)  \\\n",
       "0  전라북도  전주시      예수병원  063-230-8580     의료시설      39117   \n",
       "1  전라북도  전주시     대자인병원  063-240-2976     의료시설      19500   \n",
       "2  전라북도  전주시      전주병원  063-220-7205     의료시설       3159   \n",
       "3  전라북도  전주시    전주고려병원  063-240-7300     의료시설       9837   \n",
       "4  전라북도  전주시  NC웨이브전주점           NaN  판매및영업시설       8187   \n",
       "\n",
       "                                      소재지 매뉴얼작성여부                    매뉴얼종류  \\\n",
       "0                                 서원로 365       O  소방계획서, 다중이용시설 위기상황 매뉴얼    \n",
       "1                                 견훤로 390       O    소방계획서, 다중이용시설 위기상황메뉴얼   \n",
       "2                                한두평3길 13       O    소방계획서, 다중이용시설 위기상황메뉴얼   \n",
       "3                                안덕원로 367       O  소방계획서, 다중이용시설 위기상황 매뉴얼    \n",
       "4  전주시 완산구 전주객사4길 24-47 (전주시 완산구 고사동 105)       O         다중이용시설 위기상황 매뉴얼    \n",
       "\n",
       "   구분      데이터기준일  \n",
       "0  기존  2021-07-26  \n",
       "1  기존  2021-07-26  \n",
       "2  기존  2021-07-26  \n",
       "3  기존  2021-07-26  \n",
       "4  기존  2021-07-26  "
      ]
     },
     "execution_count": 10,
     "metadata": {},
     "output_type": "execute_result"
    }
   ],
   "source": [
    "df.head()"
   ]
  },
  {
   "cell_type": "code",
   "execution_count": null,
   "metadata": {},
   "outputs": [],
   "source": []
  }
 ],
 "metadata": {
  "kernelspec": {
   "display_name": "Python 3.7.4 ('base')",
   "language": "python",
   "name": "python3"
  },
  "language_info": {
   "codemirror_mode": {
    "name": "ipython",
    "version": 3
   },
   "file_extension": ".py",
   "mimetype": "text/x-python",
   "name": "python",
   "nbconvert_exporter": "python",
   "pygments_lexer": "ipython3",
   "version": "3.7.4"
  },
  "orig_nbformat": 4,
  "vscode": {
   "interpreter": {
    "hash": "e4cce46d6be9934fbd27f9ca0432556941ea5bdf741d4f4d64c6cd7f8dfa8fba"
   }
  }
 },
 "nbformat": 4,
 "nbformat_minor": 2
}
